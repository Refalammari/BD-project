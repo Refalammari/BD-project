{
  "metadata": {
    "kernelspec": {
      "name": "python",
      "display_name": "Python (Pyodide)",
      "language": "python"
    },
    "language_info": {
      "codemirror_mode": {
        "name": "python",
        "version": 3
      },
      "file_extension": ".py",
      "mimetype": "text/x-python",
      "name": "python",
      "nbconvert_exporter": "python",
      "pygments_lexer": "ipython3",
      "version": "3.8"
    }
  },
  "nbformat_minor": 4,
  "nbformat": 4,
  "cells": [
    {
      "cell_type": "markdown",
      "source": "# Big Data Ph1\n### Group 1\n\nRefal Alammari - \nLeen Alharbi -\nRuba abdulkhaleq\n\n### 1 - Dataset:\n\nSalaries of jobs in the Data Science domain\n",
      "metadata": {}
    },
    {
      "cell_type": "markdown",
      "source": "#### 1.1 - Data size: ",
      "metadata": {}
    },
    {
      "cell_type": "code",
      "source": "import pandas as pd\ndf = pd.read_csv('ds_salaries.csv')\nrows, columns = df.shape\nprint(f\"Dataset Size: {rows} rows and {columns} columns\")",
      "metadata": {
        "trusted": true
      },
      "outputs": [
        {
          "name": "stdout",
          "text": "Dataset Size: 607 rows and 12 columns\n",
          "output_type": "stream"
        }
      ],
      "execution_count": 5
    },
    {
      "cell_type": "markdown",
      "source": "\n#### 1.2 - content:\n",
      "metadata": {}
    },
    {
      "cell_type": "code",
      "source": "print(df.head())",
      "metadata": {
        "trusted": true
      },
      "outputs": [
        {
          "name": "stdout",
          "text": "   Unnamed: 0  work_year experience_level employment_type  \\\n0           0       2020               MI              FT   \n1           1       2020               SE              FT   \n2           2       2020               SE              FT   \n3           3       2020               MI              FT   \n4           4       2020               SE              FT   \n\n                    job_title  salary salary_currency  salary_in_usd  \\\n0              Data Scientist   70000             EUR          79833   \n1  Machine Learning Scientist  260000             USD         260000   \n2           Big Data Engineer   85000             GBP         109024   \n3        Product Data Analyst   20000             USD          20000   \n4   Machine Learning Engineer  150000             USD         150000   \n\n  employee_residence  remote_ratio company_location company_size  \n0                 DE             0               DE            L  \n1                 JP             0               JP            S  \n2                 GB            50               GB            M  \n3                 HN             0               HN            S  \n4                 US            50               US            L  \n",
          "output_type": "stream"
        }
      ],
      "execution_count": 6
    },
    {
      "cell_type": "markdown",
      "source": "#### 1.3 - Format:\n",
      "metadata": {}
    },
    {
      "cell_type": "code",
      "source": "print(df.dtypes)",
      "metadata": {
        "trusted": true
      },
      "outputs": [
        {
          "name": "stdout",
          "text": "Unnamed: 0             int64\nwork_year              int64\nexperience_level      object\nemployment_type       object\njob_title             object\nsalary                 int64\nsalary_currency       object\nsalary_in_usd          int64\nemployee_residence    object\nremote_ratio           int64\ncompany_location      object\ncompany_size          object\ndtype: object\n",
          "output_type": "stream"
        }
      ],
      "execution_count": 7
    },
    {
      "cell_type": "markdown",
      "source": "\n#### 1.4 - URL: \nOur dataset source is Kaggle : https://www.kaggle.com/datasets/ruchi798/data-science-job-salaries?select=ds_salaries.csv\n",
      "metadata": {}
    },
    {
      "cell_type": "markdown",
      "source": "### 2 - Genral info about the Dataset ",
      "metadata": {}
    },
    {
      "cell_type": "code",
      "source": "import pandas as pd\ndata_attributes = [\n    {'Column': 'work_year', 'Description': 'The year the salary was paid.', 'Type': 'Interval'},\n    {'Column': 'experience_level', 'Description': 'The experience level in the job during the year.', 'Type': 'Ordinal'},\n    {'Column': 'employment_type', 'Description': 'The type of employment for the role.', 'Type': 'Nominal'},\n    {'Column': 'job_title', 'Description': 'The role worked in during the year.', 'Type': 'Nominal'},\n    {'Column': 'salary', 'Description': 'The total gross salary amount paid.', 'Type': 'Ratio'},\n    {'Column': 'salary_currency', 'Description': 'The currency of the salary paid as an ISO 4217 code. ', 'Type': 'Nominal'},\n    {'Column': 'salary_in_usd', 'Description': 'The salary in USD (adjusted by exchange rate).', 'Type': 'Ratio'},\n    {'Column': 'employee_residence', 'Description': 'Employee\\'s primary country of residence during the year.', 'Type': 'Nominal'},\n    {'Column': 'remote_ratio', 'Description': 'The amount of work done remotely.', 'Type': 'Ordinal'},\n    {'Column': 'company_location', 'Description': 'The country of the employer\\'s main office.', 'Type': 'Nominal'},\n    {'Column': 'company_size', 'Description': 'The average number of people working for the company.', 'Type': 'Ordinal'}\n]\nattributes_df = pd.DataFrame(data_attributes)\nattributes_df\n",
      "metadata": {
        "trusted": true
      },
      "outputs": [
        {
          "execution_count": 26,
          "output_type": "execute_result",
          "data": {
            "text/plain": "                Column                                        Description  \\\n0            work_year                      The year the salary was paid.   \n1     experience_level   The experience level in the job during the year.   \n2      employment_type               The type of employment for the role.   \n3            job_title                The role worked in during the year.   \n4               salary                The total gross salary amount paid.   \n5      salary_currency  The currency of the salary paid as an ISO 4217...   \n6        salary_in_usd     The salary in USD (adjusted by exchange rate).   \n7   employee_residence  Employee's primary country of residence during...   \n8         remote_ratio                  The amount of work done remotely.   \n9     company_location         The country of the employer's main office.   \n10        company_size  The average number of people working for the c...   \n\n        Type  \n0   Interval  \n1    Ordinal  \n2    Nominal  \n3    Nominal  \n4      Ratio  \n5    Nominal  \n6      Ratio  \n7    Nominal  \n8    Ordinal  \n9    Nominal  \n10   Ordinal  ",
            "text/html": "<div>\n<style scoped>\n    .dataframe tbody tr th:only-of-type {\n        vertical-align: middle;\n    }\n\n    .dataframe tbody tr th {\n        vertical-align: top;\n    }\n\n    .dataframe thead th {\n        text-align: right;\n    }\n</style>\n<table border=\"1\" class=\"dataframe\">\n  <thead>\n    <tr style=\"text-align: right;\">\n      <th></th>\n      <th>Column</th>\n      <th>Description</th>\n      <th>Type</th>\n    </tr>\n  </thead>\n  <tbody>\n    <tr>\n      <th>0</th>\n      <td>work_year</td>\n      <td>The year the salary was paid.</td>\n      <td>Interval</td>\n    </tr>\n    <tr>\n      <th>1</th>\n      <td>experience_level</td>\n      <td>The experience level in the job during the year.</td>\n      <td>Ordinal</td>\n    </tr>\n    <tr>\n      <th>2</th>\n      <td>employment_type</td>\n      <td>The type of employment for the role.</td>\n      <td>Nominal</td>\n    </tr>\n    <tr>\n      <th>3</th>\n      <td>job_title</td>\n      <td>The role worked in during the year.</td>\n      <td>Nominal</td>\n    </tr>\n    <tr>\n      <th>4</th>\n      <td>salary</td>\n      <td>The total gross salary amount paid.</td>\n      <td>Ratio</td>\n    </tr>\n    <tr>\n      <th>5</th>\n      <td>salary_currency</td>\n      <td>The currency of the salary paid as an ISO 4217...</td>\n      <td>Nominal</td>\n    </tr>\n    <tr>\n      <th>6</th>\n      <td>salary_in_usd</td>\n      <td>The salary in USD (adjusted by exchange rate).</td>\n      <td>Ratio</td>\n    </tr>\n    <tr>\n      <th>7</th>\n      <td>employee_residence</td>\n      <td>Employee's primary country of residence during...</td>\n      <td>Nominal</td>\n    </tr>\n    <tr>\n      <th>8</th>\n      <td>remote_ratio</td>\n      <td>The amount of work done remotely.</td>\n      <td>Ordinal</td>\n    </tr>\n    <tr>\n      <th>9</th>\n      <td>company_location</td>\n      <td>The country of the employer's main office.</td>\n      <td>Nominal</td>\n    </tr>\n    <tr>\n      <th>10</th>\n      <td>company_size</td>\n      <td>The average number of people working for the c...</td>\n      <td>Ordinal</td>\n    </tr>\n  </tbody>\n</table>\n</div>"
          },
          "metadata": {}
        }
      ],
      "execution_count": 26
    },
    {
      "cell_type": "markdown",
      "source": "#### 2.2 - shortcuts ",
      "metadata": {}
    },
    {
      "cell_type": "code",
      "source": "import pandas as pd\n\nabbreviation_data = [\n    {'Column': 'experience_level', 'Shortcut': 'EN', 'Meaning': 'Entry-level / Junior'},\n    {'Column': 'experience_level', 'Shortcut': 'MI', 'Meaning': 'Mid-level / Intermediate'},\n    {'Column': 'experience_level', 'Shortcut': 'SE', 'Meaning': 'Senior-level / Expert'},\n    {'Column': 'experience_level', 'Shortcut': 'EX', 'Meaning': 'Executive-level / Director'},\n    \n    {'Column': 'employment_type', 'Shortcut': 'PT', 'Meaning': 'Part-time'},\n    {'Column': 'employment_type', 'Shortcut': 'FT', 'Meaning': 'Full-time'},\n    {'Column': 'employment_type', 'Shortcut': 'CT', 'Meaning': 'Contract'},\n    {'Column': 'employment_type', 'Shortcut': 'FL', 'Meaning': 'Freelance'},\n    \n    {'Column': 'salary_currency', 'Shortcut': 'USD', 'Meaning': 'United States Dollar'},\n    {'Column': 'salary_currency', 'Shortcut': 'EUR', 'Meaning': 'Euro'},\n    \n    {'Column': 'employee_residence', 'Shortcut': 'US', 'Meaning': 'United States'},\n    {'Column': 'employee_residence', 'Shortcut': 'DE', 'Meaning': 'Germany'},\n    \n    {'Column': 'company_location', 'Shortcut': 'US', 'Meaning': 'United States'},\n    {'Column': 'company_location', 'Shortcut': 'DE', 'Meaning': 'Germany'},\n    \n    {'Column': 'company_size', 'Shortcut': 'S', 'Meaning': 'Small (<50 employees)'},\n    {'Column': 'company_size', 'Shortcut': 'M', 'Meaning': 'Medium (50 to 250 employees)'},\n    {'Column': 'company_size', 'Shortcut': 'L', 'Meaning': 'Large (>250 employees)'}\n]\n\nabbreviations_df = pd.DataFrame(abbreviation_data)\nabbreviations_df\n",
      "metadata": {
        "trusted": true
      },
      "outputs": [
        {
          "execution_count": 28,
          "output_type": "execute_result",
          "data": {
            "text/plain": "                Column Shortcut                       Meaning\n0     experience_level       EN          Entry-level / Junior\n1     experience_level       MI      Mid-level / Intermediate\n2     experience_level       SE         Senior-level / Expert\n3     experience_level       EX    Executive-level / Director\n4      employment_type       PT                     Part-time\n5      employment_type       FT                     Full-time\n6      employment_type       CT                      Contract\n7      employment_type       FL                     Freelance\n8      salary_currency      USD          United States Dollar\n9      salary_currency      EUR                          Euro\n10  employee_residence       US                 United States\n11  employee_residence       DE                       Germany\n12    company_location       US                 United States\n13    company_location       DE                       Germany\n14        company_size        S         Small (<50 employees)\n15        company_size        M  Medium (50 to 250 employees)\n16        company_size        L        Large (>250 employees)",
            "text/html": "<div>\n<style scoped>\n    .dataframe tbody tr th:only-of-type {\n        vertical-align: middle;\n    }\n\n    .dataframe tbody tr th {\n        vertical-align: top;\n    }\n\n    .dataframe thead th {\n        text-align: right;\n    }\n</style>\n<table border=\"1\" class=\"dataframe\">\n  <thead>\n    <tr style=\"text-align: right;\">\n      <th></th>\n      <th>Column</th>\n      <th>Shortcut</th>\n      <th>Meaning</th>\n    </tr>\n  </thead>\n  <tbody>\n    <tr>\n      <th>0</th>\n      <td>experience_level</td>\n      <td>EN</td>\n      <td>Entry-level / Junior</td>\n    </tr>\n    <tr>\n      <th>1</th>\n      <td>experience_level</td>\n      <td>MI</td>\n      <td>Mid-level / Intermediate</td>\n    </tr>\n    <tr>\n      <th>2</th>\n      <td>experience_level</td>\n      <td>SE</td>\n      <td>Senior-level / Expert</td>\n    </tr>\n    <tr>\n      <th>3</th>\n      <td>experience_level</td>\n      <td>EX</td>\n      <td>Executive-level / Director</td>\n    </tr>\n    <tr>\n      <th>4</th>\n      <td>employment_type</td>\n      <td>PT</td>\n      <td>Part-time</td>\n    </tr>\n    <tr>\n      <th>5</th>\n      <td>employment_type</td>\n      <td>FT</td>\n      <td>Full-time</td>\n    </tr>\n    <tr>\n      <th>6</th>\n      <td>employment_type</td>\n      <td>CT</td>\n      <td>Contract</td>\n    </tr>\n    <tr>\n      <th>7</th>\n      <td>employment_type</td>\n      <td>FL</td>\n      <td>Freelance</td>\n    </tr>\n    <tr>\n      <th>8</th>\n      <td>salary_currency</td>\n      <td>USD</td>\n      <td>United States Dollar</td>\n    </tr>\n    <tr>\n      <th>9</th>\n      <td>salary_currency</td>\n      <td>EUR</td>\n      <td>Euro</td>\n    </tr>\n    <tr>\n      <th>10</th>\n      <td>employee_residence</td>\n      <td>US</td>\n      <td>United States</td>\n    </tr>\n    <tr>\n      <th>11</th>\n      <td>employee_residence</td>\n      <td>DE</td>\n      <td>Germany</td>\n    </tr>\n    <tr>\n      <th>12</th>\n      <td>company_location</td>\n      <td>US</td>\n      <td>United States</td>\n    </tr>\n    <tr>\n      <th>13</th>\n      <td>company_location</td>\n      <td>DE</td>\n      <td>Germany</td>\n    </tr>\n    <tr>\n      <th>14</th>\n      <td>company_size</td>\n      <td>S</td>\n      <td>Small (&lt;50 employees)</td>\n    </tr>\n    <tr>\n      <th>15</th>\n      <td>company_size</td>\n      <td>M</td>\n      <td>Medium (50 to 250 employees)</td>\n    </tr>\n    <tr>\n      <th>16</th>\n      <td>company_size</td>\n      <td>L</td>\n      <td>Large (&gt;250 employees)</td>\n    </tr>\n  </tbody>\n</table>\n</div>"
          },
          "metadata": {}
        }
      ],
      "execution_count": 28
    },
    {
      "cell_type": "code",
      "source": "",
      "metadata": {
        "trusted": true
      },
      "outputs": [],
      "execution_count": null
    }
  ]
}