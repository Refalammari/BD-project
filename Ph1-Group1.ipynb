{
  "metadata": {
    "kernelspec": {
      "name": "python",
      "display_name": "Python (Pyodide)",
      "language": "python"
    },
    "language_info": {
      "codemirror_mode": {
        "name": "python",
        "version": 3
      },
      "file_extension": ".py",
      "mimetype": "text/x-python",
      "name": "python",
      "nbconvert_exporter": "python",
      "pygments_lexer": "ipython3",
      "version": "3.8"
    }
  },
  "nbformat_minor": 4,
  "nbformat": 4,
  "cells": [
    {
      "cell_type": "markdown",
      "source": "# Big Data Ph1\n### Group 1\n\nRefal Alammari - \nLeen Alharbi -\nRuba abdulkhaleq\n\n### 1 - Dataset:\n\nSalaries of jobs in the Data Science domain\n",
      "metadata": {}
    },
    {
      "cell_type": "markdown",
      "source": "#### 1.1 - Data size: ",
      "metadata": {}
    },
    {
      "cell_type": "code",
      "source": "import pandas as pd\ndf = pd.read_csv('ds_salaries.csv')\nrows, columns = df.shape\nprint(f\"Dataset Size: {rows} rows and {columns} columns\")",
      "metadata": {
        "trusted": true
      },
      "outputs": [],
      "execution_count": null
    },
    {
      "cell_type": "markdown",
      "source": "\n#### 1.2 - content:\n",
      "metadata": {}
    },
    {
      "cell_type": "code",
      "source": "print(df.head())",
      "metadata": {
        "trusted": true
      },
      "outputs": [],
      "execution_count": null
    },
    {
      "cell_type": "markdown",
      "source": "#### 1.3 - Format:\n",
      "metadata": {}
    },
    {
      "cell_type": "code",
      "source": "print(df.dtypes)",
      "metadata": {
        "trusted": true
      },
      "outputs": [],
      "execution_count": null
    },
    {
      "cell_type": "markdown",
      "source": "\n#### 1.4 - URL: \nOur dataset source is Kaggle : https://www.kaggle.com/datasets/ruchi798/data-science-job-salaries?select=ds_salaries.csv\n",
      "metadata": {}
    },
    {
      "cell_type": "markdown",
      "source": "### 2 - Genral info about the Dataset ",
      "metadata": {}
    },
    {
      "cell_type": "code",
      "source": "import pandas as pd\ndata_attributes = [\n    {'Column': 'work_year', 'Description': 'The year the salary was paid.', 'Type': 'Interval'},\n    {'Column': 'experience_level', 'Description': 'The experience level in the job during the year.', 'Type': 'Ordinal'},\n    {'Column': 'employment_type', 'Description': 'The type of employment for the role.', 'Type': 'Nominal'},\n    {'Column': 'job_title', 'Description': 'The role worked in during the year.', 'Type': 'Nominal'},\n    {'Column': 'salary', 'Description': 'The total gross salary amount paid.', 'Type': 'Ratio'},\n    {'Column': 'salary_currency', 'Description': 'The currency of the salary paid as an ISO 4217 code. ', 'Type': 'Nominal'},\n    {'Column': 'salary_in_usd', 'Description': 'The salary in USD (adjusted by exchange rate).', 'Type': 'Ratio'},\n    {'Column': 'employee_residence', 'Description': 'Employee\\'s primary country of residence during the year.', 'Type': 'Nominal'},\n    {'Column': 'remote_ratio', 'Description': 'The amount of work done remotely.', 'Type': 'Ordinal'},\n    {'Column': 'company_location', 'Description': 'The country of the employer\\'s main office.', 'Type': 'Nominal'},\n    {'Column': 'company_size', 'Description': 'The average number of people working for the company.', 'Type': 'Ordinal'}\n]\nattributes_df = pd.DataFrame(data_attributes)\nattributes_df\n",
      "metadata": {
        "trusted": true
      },
      "outputs": [],
      "execution_count": null
    },
    {
      "cell_type": "code",
      "source": "",
      "metadata": {
        "trusted": true
      },
      "outputs": [],
      "execution_count": null
    },
    {
      "cell_type": "markdown",
      "source": "#### 2.2 - shortcuts ",
      "metadata": {}
    },
    {
      "cell_type": "code",
      "source": "import pandas as pd\n\nabbreviation_data = [\n    {'Column': 'experience_level', 'Shortcut': 'EN', 'Meaning': 'Entry-level / Junior'},\n    {'Column': 'experience_level', 'Shortcut': 'MI', 'Meaning': 'Mid-level / Intermediate'},\n    {'Column': 'experience_level', 'Shortcut': 'SE', 'Meaning': 'Senior-level / Expert'},\n    {'Column': 'experience_level', 'Shortcut': 'EX', 'Meaning': 'Executive-level / Director'},\n    \n    {'Column': 'employment_type', 'Shortcut': 'PT', 'Meaning': 'Part-time'},\n    {'Column': 'employment_type', 'Shortcut': 'FT', 'Meaning': 'Full-time'},\n    {'Column': 'employment_type', 'Shortcut': 'CT', 'Meaning': 'Contract'},\n    {'Column': 'employment_type', 'Shortcut': 'FL', 'Meaning': 'Freelance'},\n    \n    {'Column': 'salary_currency', 'Shortcut': 'USD', 'Meaning': 'United States Dollar'},\n    {'Column': 'salary_currency', 'Shortcut': 'EUR', 'Meaning': 'Euro'},\n    \n    {'Column': 'employee_residence', 'Shortcut': 'US', 'Meaning': 'United States'},\n    {'Column': 'employee_residence', 'Shortcut': 'DE', 'Meaning': 'Germany'},\n    \n    {'Column': 'company_location', 'Shortcut': 'US', 'Meaning': 'United States'},\n    {'Column': 'company_location', 'Shortcut': 'DE', 'Meaning': 'Germany'},\n    \n    {'Column': 'company_size', 'Shortcut': 'S', 'Meaning': 'Small (<50 employees)'},\n    {'Column': 'company_size', 'Shortcut': 'M', 'Meaning': 'Medium (50 to 250 employees)'},\n    {'Column': 'company_size', 'Shortcut': 'L', 'Meaning': 'Large (>250 employees)'}\n]\n\nabbreviations_df = pd.DataFrame(abbreviation_data)\nabbreviations_df\n",
      "metadata": {
        "trusted": true
      },
      "outputs": [],
      "execution_count": null
    },
    {
      "cell_type": "code",
      "source": "",
      "metadata": {
        "trusted": true
      },
      "outputs": [],
      "execution_count": null
    },
    {
      "cell_type": "code",
      "source": "import shutil\n\nfolder_path = 'Group1_ph1'\n\noutput_filename = 'Ph1_BS'\n\nshutil.make_archive(output_filename, 'zip', folder_path)\n",
      "metadata": {
        "trusted": true
      },
      "outputs": [],
      "execution_count": null
    },
    {
      "cell_type": "markdown",
      "source": "",
      "metadata": {}
    },
    {
      "cell_type": "code",
      "source": "",
      "metadata": {
        "trusted": true
      },
      "outputs": [],
      "execution_count": null
    }
  ]
}